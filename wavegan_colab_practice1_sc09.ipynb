{
  "nbformat": 4,
  "nbformat_minor": 0,
  "metadata": {
    "colab": {
      "name": "wavegan_colab_practice1_sc09.ipynb",
      "provenance": [],
      "collapsed_sections": []
    },
    "kernelspec": {
      "name": "python3",
      "display_name": "Python 3"
    },
    "accelerator": "GPU"
  },
  "cells": [
    {
      "cell_type": "markdown",
      "metadata": {
        "id": "G2-EtV_r0-rU"
      },
      "source": [
        "**wavegan practice**\n",
        "\n",
        "**train and synthesize**\n",
        "\n",
        "**using google colaboratory (6 hours)**"
      ]
    },
    {
      "cell_type": "markdown",
      "metadata": {
        "id": "cuwoU7RHFANL"
      },
      "source": [
        "Requirements"
      ]
    },
    {
      "cell_type": "code",
      "metadata": {
        "id": "UYz7kmBRHRXT"
      },
      "source": [
        "%tensorflow_version 1.x"
      ],
      "execution_count": null,
      "outputs": []
    },
    {
      "cell_type": "code",
      "metadata": {
        "id": "h0qcoTESE8ka"
      },
      "source": [
        "!pip install librosa==0.6.2"
      ],
      "execution_count": null,
      "outputs": []
    },
    {
      "cell_type": "markdown",
      "metadata": {
        "id": "8I7UoF66qd7E"
      },
      "source": [
        "clone source files"
      ]
    },
    {
      "cell_type": "code",
      "metadata": {
        "id": "G4DoMhiGqHlW"
      },
      "source": [
        "!git clone https://github.com/shun60s/wavegan-clone"
      ],
      "execution_count": null,
      "outputs": []
    },
    {
      "cell_type": "markdown",
      "metadata": {
        "id": "DcF8012l6U0l"
      },
      "source": [
        "change working directory"
      ]
    },
    {
      "cell_type": "code",
      "metadata": {
        "id": "Imm4ipGw6R8F"
      },
      "source": [
        "%cd wavegan-clone"
      ],
      "execution_count": null,
      "outputs": []
    },
    {
      "cell_type": "markdown",
      "metadata": {
        "id": "I8v7rcz97TE8"
      },
      "source": [
        "check file tree"
      ]
    },
    {
      "cell_type": "code",
      "metadata": {
        "id": "YJJp4cDI7QsF"
      },
      "source": [
        "!ls -l"
      ],
      "execution_count": null,
      "outputs": []
    },
    {
      "cell_type": "markdown",
      "metadata": {
        "id": "HrV8G0c7EgQn"
      },
      "source": [
        "get Speech Commands Zero through Nine (SC09) and unzip it\n",
        "\n",
        "\n"
      ]
    },
    {
      "cell_type": "code",
      "metadata": {
        "id": "iPJpklR_qYGn"
      },
      "source": [
        "!wget -P \"./data\" http://deepyeti.ucsd.edu/cdonahue/wavegan/data/sc09.tar.gz"
      ],
      "execution_count": null,
      "outputs": []
    },
    {
      "cell_type": "code",
      "metadata": {
        "id": "8_ISXZRbYxo8"
      },
      "source": [
        "!tar -xf \"./data/sc09.tar.gz\" -C ./data/"
      ],
      "execution_count": null,
      "outputs": []
    },
    {
      "cell_type": "markdown",
      "metadata": {
        "id": "b1_QYAiMCm6l"
      },
      "source": [
        "check sc09 file tree"
      ]
    },
    {
      "cell_type": "code",
      "metadata": {
        "id": "VFP72A1LBdk0"
      },
      "source": [
        "!ls -l ./data/sc09"
      ],
      "execution_count": null,
      "outputs": []
    },
    {
      "cell_type": "markdown",
      "metadata": {
        "id": "jE6h6BKtJ29R"
      },
      "source": [
        "To monitor training via tensorboard"
      ]
    },
    {
      "cell_type": "code",
      "metadata": {
        "id": "aFCuHAvA5C41"
      },
      "source": [
        "from __future__ import absolute_import, division, print_function, unicode_literals\n",
        "\n",
        "try:\n",
        "  # %tensorflow_version only exists in Colab.\n",
        "  %tensorflow_version 1.x\n",
        "except Exception:\n",
        "  pass"
      ],
      "execution_count": null,
      "outputs": []
    },
    {
      "cell_type": "markdown",
      "metadata": {
        "id": "SiryPYb-BXUZ"
      },
      "source": [
        "re-start after train ends, when tensorboard doesn't work."
      ]
    },
    {
      "cell_type": "code",
      "metadata": {
        "id": "10W4p__d5Po5"
      },
      "source": [
        "# Load the TensorBoard notebook extension\n",
        "%load_ext tensorboard"
      ],
      "execution_count": null,
      "outputs": []
    },
    {
      "cell_type": "code",
      "metadata": {
        "id": "8BvEukl3IPaR"
      },
      "source": [
        "%tensorboard --logdir=./train"
      ],
      "execution_count": null,
      "outputs": []
    },
    {
      "cell_type": "markdown",
      "metadata": {
        "id": "nMtLMEA-Gw8w"
      },
      "source": [
        "**train with one GPU ** \n",
        "\n",
        "\n"
      ]
    },
    {
      "cell_type": "code",
      "metadata": {
        "id": "Tv6R7ircZnxc"
      },
      "source": [
        "!python train_wavegan.py train ./train --data_dir ./data/sc09/train --data_first_slice --data_pad_end  --data_fast_wav"
      ],
      "execution_count": null,
      "outputs": []
    },
    {
      "cell_type": "markdown",
      "metadata": {
        "id": "yUHWq3wfKVmJ"
      },
      "source": [
        "**Generation**"
      ]
    },
    {
      "cell_type": "markdown",
      "metadata": {
        "id": "XTfW7ZDpD81f"
      },
      "source": [
        "Please change model name .ckpt-2955 to actual file in ./train at saver.restores line."
      ]
    },
    {
      "cell_type": "code",
      "metadata": {
        "id": "hD4YsR5vKa2A"
      },
      "source": [
        "%matplotlib inline\n",
        "import matplotlib.pyplot as plt\n",
        "\n",
        "import tensorflow as tf\n",
        "from IPython.display import display, Audio\n",
        "import PIL.Image\n",
        "import numpy as np\n",
        "\n",
        "%matplotlib inline\n",
        "import matplotlib.pyplot as plt\n",
        "\n",
        "# Load the graph\n",
        "tf.reset_default_graph()\n",
        "saver = tf.train.import_meta_graph('./train/infer/infer.meta')\n",
        "graph = tf.get_default_graph()\n",
        "sess = tf.InteractiveSession()\n",
        "saver.restore(sess, './train/model.ckpt-2955')\n",
        "\n",
        "# Create 50 random latent vectors z\n",
        "_z = (np.random.rand(50, 100) * 2.) - 1\n",
        "\n",
        "# Synthesize G(z)\n",
        "z = graph.get_tensor_by_name('z:0')\n",
        "G_z = graph.get_tensor_by_name('G_z:0')[:, :, 0]\n",
        "_G_z = sess.run(G_z, {z: _z})\n",
        "\n",
        "# Play 10 audio in notebook\n",
        "for i in range(10):\n",
        "  print('-' * 80)\n",
        "  print('Example {}'.format(i))\n",
        "  plt.plot(_G_z[i])\n",
        "  #display(PIL.Image.fromarray(_G_z[i]))\n",
        "  display(Audio(_G_z[i], rate=16000))"
      ],
      "execution_count": null,
      "outputs": []
    }
  ]
}